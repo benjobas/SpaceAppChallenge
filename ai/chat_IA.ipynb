{
 "cells": [
  {
   "cell_type": "markdown",
   "metadata": {},
   "source": [
    "## CHAT_IA : OPENAI, AGENTS, TOOLS, PROMPTS"
   ]
  },
  {
   "cell_type": "markdown",
   "metadata": {},
   "source": [
    "#### MODEL"
   ]
  },
  {
   "cell_type": "code",
   "execution_count": 83,
   "metadata": {},
   "outputs": [],
   "source": [
    "from dotenv import load_dotenv\n",
    "from langchain_openai import ChatOpenAI\n",
    "\n",
    "load_dotenv()\n",
    "model = ChatOpenAI(model=\"gpt-4o\", temperature=0.2)"
   ]
  },
  {
   "cell_type": "markdown",
   "metadata": {},
   "source": [
    "#### TOOL"
   ]
  },
  {
   "cell_type": "code",
   "execution_count": 84,
   "metadata": {},
   "outputs": [],
   "source": [
    "from langchain.agents import Tool\n",
    "\n",
    "# EXPERTO EN EXOPLANETAS\n",
    "def stars_template(pregunta):\n",
    "    estrella = \"\"\"\n",
    "\"nombre_del_planeta\": \"K2-22 b\"\n",
    "\"nombre_de_la_estrella_anfitriona\": \"K2-22\"\n",
    "\"indicador_predeterminado\": \"1\"\n",
    "\"número_de_estrellas_en_el_sistema\": \"2\"\n",
    "\"número_de_planetas_en_el_sistema\": \"1\"\n",
    "\"método_de_descubrimiento\": \"Transit\"\n",
    "\"año_de_descubrimiento\": \"2015\"\n",
    "\"instalación_de_descubrimiento\": \"K2\"\n",
    "\"tipo_de_solución\": \"Published Confirmed\"\n",
    "\"indicador_de_controversia_del_planeta\": \"0\"\n",
    "\"referencia_de_la_publicación_sobre_el_planeta\": \"<a refstr=ADAMS_ET_AL__2021 href=https://ui.adsabs.harvard.edu/abs/2021PSJ.....2..152A/abstract target=ref>Adams et al. 2021</a>\"\n",
    "\"periodo_orbital_días\": \"0.38107300\"\n",
    "\"error_superior_del_periodo_orbital_días\": \"0.00002400\"\n",
    "\"error_inferior_del_periodo_orbital_días\": \"-0.00002400\"\n",
    "\"límite_del_periodo_orbital\": \"0\"\n",
    "\"distancia_semimayor_de_la_órbita_UA\": \"\"\n",
    "\"error_superior_de_la_distancia_semimayor_UA\": \"\"\n",
    "\"error_inferior_de_la_distancia_semimayor_UA\": \"\"\n",
    "\"límite_de_la_distancia_semimayor\": \"\"\n",
    "\"radio_del_planeta_radios_terrestres\": \"2.300\"\n",
    "\"error_superior_del_radio_radios_terrestres\": \"0.100\"\n",
    "\"error_inferior_del_radio_radios_terrestres\": \"-0.100\"\n",
    "\"límite_del_radio_del_planeta_radios_terrestres\": \"0\"\n",
    "\"radio_del_planeta_radios_jovianos\": \"0.205\"\n",
    "\"error_superior_del_radio_radios_jovianos\": \"0.009\"\n",
    "\"error_inferior_del_radio_radios_jovianos\": \"-0.009\"\n",
    "\"límite_del_radio_del_planeta_radios_jovianos\": \"0\"\n",
    "\"masa_del_planeta_masas_terrestres\": \"\"\n",
    "\"error_superior_de_la_masa_del_planeta_masas_terrestres\": \"\"\n",
    "\"error_inferior_de_la_masa_del_planeta_masas_terrestres\": \"\"\n",
    "\"límite_de_la_masa_del_planeta_masas_terrestres\": \"\"\n",
    "\"masa_del_planeta_masas_jovianas\": \"\"\n",
    "\"error_superior_de_la_masa_del_planeta_masas_jovianas\": \"\"\n",
    "\"error_inferior_de_la_masa_del_planeta_masas_jovianas\": \"\"\n",
    "\"límite_de_la_masa_del_planeta_masas_jovianas\": \"\"\n",
    "\"método_de_determinación_de_la_masa\": \"\"\n",
    "\"excentricidad_orbital_del_planeta\": \"\"\n",
    "\"error_superior_de_la_excentricidad_orbital\": \"\"\n",
    "\"error_inferior_de_la_excentricidad_orbital\": \"\"\n",
    "\"límite_de_la_excentricidad_orbital\": \"0\"\n",
    "\"insolación_en_la_superficie_del_planeta\": \"\"\n",
    "\"error_superior_de_la_insolación\": \"\"\n",
    "\"error_inferior_de_la_insolación\": \"\"\n",
    "\"límite_de_la_insolación\": \"\"\n",
    "\"temperatura_de_equilibrio_del_planeta_K\": \"\"\n",
    "\"error_superior_de_la_temperatura_de_equilibrio\": \"\"\n",
    "\"error_inferior_de_la_temperatura_de_equilibrio\": \"\"\n",
    "\"límite_de_la_temperatura_de_equilibrio\": \"\"\n",
    "\"indicador_de_variación_del_tiempo_de_tránsito\": \"0\"\n",
    "\"referencia_de_la_publicación_sobre_la_estrella\": \"<a refstr=ADAMS_ET_AL__2021 href=https://ui.adsabs.harvard.edu/abs/2021PSJ.....2..152A/abstract target=ref>Adams et al. 2021</a>\"\n",
    "\"tipo_espectral_de_la_estrella\": \"\"\n",
    "\"temperatura_efectiva_de_la_estrella_K\": \"3879.00\"\n",
    "\"error_superior_de_la_temperatura_de_la_estrella_K\": \"90.00\"\n",
    "\"error_inferior_de_la_temperatura_de_la_estrella_K\": \"-90.00\"\n",
    "\"límite_de_la_temperatura_de_la_estrella\": \"0\"\n",
    "\"radio_de_la_estrella_radios_solares\": \"0.58\"\n",
    "\"error_superior_del_radio_de_la_estrella\": \"0.03\"\n",
    "\"error_inferior_del_radio_de_la_estrella\": \"-0.03\"\n",
    "\"límite_del_radio_de_la_estrella\": \"0\"\n",
    "\"masa_de_la_estrella_masas_solares\": \"\"\n",
    "\"error_superior_de_la_masa_de_la_estrella\": \"\"\n",
    "\"error_inferior_de_la_masa_de_la_estrella\": \"\"\n",
    "\"límite_de_la_masa_de_la_estrella\": \"\"\n",
    "\"metalicidad_de_la_estrella\": \"0.032\"\n",
    "\"error_superior_de_la_metalicidad\": \"0.120\"\n",
    "\"error_inferior_de_la_metalicidad\": \"-0.120\"\n",
    "\"límite_de_la_metalicidad\": \"0\"\n",
    "\"relación_de_metalicidad_respecto_al_sol\": \"[Fe/H]\"\n",
    "\"gravedad_superficial_de_la_estrella_log_g\": \"4.70\"\n",
    "\"error_superior_de_la_gravedad_superficial\": \"0.04\"\n",
    "\"error_inferior_de_la_gravedad_superficial\": \"-0.04\"\n",
    "\"límite_de_la_gravedad_superficial\": \"0\"\n",
    "\"referencia_de_la_publicación_sobre_el_sistema\": \"<a refstr=STASSUN_ET_AL__2019 href=https://ui.adsabs.harvard.edu/abs/2019AJ....158..138S/abstract target=ref>TICv8</a>\"\n",
    "\"ascensión_recta_cadena\": \"11h17m55.85s\"\n",
    "\"ascensión_recta_grados\": \"169.4827046\"\n",
    "\"declinación_cadena\": \"+02d37m08.53s\"\n",
    "\"declinación_grados\": \"2.6190363\"\n",
    "\"distancia_al_sistema_parsecs\": \"243.8360000\"\n",
    "\"error_superior_de_la_distancia\": \"2.7975000\"\n",
    "\"error_inferior_de_la_distancia\": \"-2.7975000\"\n",
    "\"magnitud_aparente_en_banda_V\": \"15.5650000\"\n",
    "\"error_superior_de_la_magnitud_V\": \"0.0460000\"\n",
    "\"error_inferior_de_la_magnitud_V\": \"-0.0460000\"\n",
    "\"magnitud_aparente_en_banda_K\": \"11.9240000\"\n",
    "\"error_superior_de_la_magnitud_K\": \"0.0260000\"\n",
    "\"error_inferior_de_la_magnitud_K\": \"-0.0260000\"\n",
    "\"magnitud_aparente_en_banda_gaia\": \"14.9537000\"\n",
    "\"error_superior_de_la_magnitud_gaia\": \"0.0007770\"\n",
    "\"error_inferior_de_la_magnitud_gaia\": \"-0.0007770\"\n",
    "\"fecha_de_actualización\": \"2022-03-28\"\n",
    "\"fecha_de_publicación_del_planeta\": \"2021-08\"\n",
    "\"fecha_de_liberación_de_los_datos\": \"2022-03-28\"\n",
    "\"\"\"\n",
    "    \n",
    "    return f\"\"\"\n",
    "            Información de estrella: {estrella}\n",
    "            Eres un asistente experto en astronomía. Tienes conocimientos avanzados sobre las estrellas, las constelaciones y otros objetos celestes.\n",
    "            Utilizando solamente la información de la estrella proporcionada, responde la pregunta de manera clara, precisa, y educativa.\n",
    "            Entrega las respuestas en español, y de forma breve.\n",
    "\n",
    "            - Si hay información que no la encuentres, di que no lo sabes.\n",
    "            - Se breve con tu respuesta.\n",
    "            - Responde siempre en español.\n",
    "            Pregunta: {pregunta}\n",
    "            \"\"\"\n",
    "\n",
    "\n",
    "def stars_expert(input=\"\"):\n",
    "    prompt = stars_template(input)\n",
    "    response = model(prompt)\n",
    "    return response\n",
    "\n",
    "stars_tool = Tool(\n",
    "    name = \"experto_planetas\",\n",
    "    func = stars_expert,\n",
    "    description = \"Eres un experto de astronomía especializado en exoplanetas y estrellas\"\n",
    ")"
   ]
  },
  {
   "cell_type": "markdown",
   "metadata": {},
   "source": [
    "#### AGENT"
   ]
  },
  {
   "cell_type": "code",
   "execution_count": 85,
   "metadata": {},
   "outputs": [],
   "source": [
    "from langchain.chains.conversation.memory import ConversationBufferWindowMemory\n",
    "\n",
    "# conversational agent memory\n",
    "memory = ConversationBufferWindowMemory(\n",
    "    memory_key = \"chat_history\",\n",
    "    k = 3,\n",
    "    return_messages=True\n",
    ")\n",
    "\n",
    "\n",
    "tools = [stars_tool]\n",
    "\n",
    "from langchain.agents import initialize_agent\n",
    "\n",
    "conversational_agent = initialize_agent(\n",
    "    agent=\"chat-conversational-react-description\",\n",
    "    tools=tools,\n",
    "    llm=model,\n",
    "    verbose=True,\n",
    "    max_iterations=5,\n",
    "    early_stopping_method=\"generate\",\n",
    "    memory=memory,\n",
    "    description=\"Eres un experto en astronomía. Utiliza los tools para obtener información sobre exoplanetas\"\n",
    ")"
   ]
  },
  {
   "cell_type": "markdown",
   "metadata": {},
   "source": [
    "## FLASK: POST, GET"
   ]
  },
  {
   "cell_type": "code",
   "execution_count": 86,
   "metadata": {},
   "outputs": [
    {
     "name": "stdout",
     "output_type": "stream",
     "text": [
      " * Serving Flask app '__main__'\n",
      " * Debug mode: off\n"
     ]
    },
    {
     "name": "stderr",
     "output_type": "stream",
     "text": [
      "WARNING: This is a development server. Do not use it in a production deployment. Use a production WSGI server instead.\n",
      " * Running on http://127.0.0.1:80\n",
      "Press CTRL+C to quit\n",
      "127.0.0.1 - - [06/Oct/2024 12:34:50] \"OPTIONS /webhook HTTP/1.1\" 200 -\n"
     ]
    },
    {
     "name": "stdout",
     "output_type": "stream",
     "text": [
      "\n",
      "\n",
      "\u001b[1m> Entering new AgentExecutor chain...\u001b[0m\n",
      "\u001b[32;1m\u001b[1;3m```json\n",
      "{\n",
      "    \"action\": \"experto_planetas\",\n",
      "    \"action_input\": \"K2-22b\"\n",
      "}\n",
      "```\u001b[0m\n",
      "Observation: \u001b[36;1m\u001b[1;3mcontent='K2-22 b es un planeta que orbita la estrella K2-22. Fue descubierto en 2015 mediante el método de tránsito utilizando la instalación K2. Es el único planeta en su sistema, que contiene dos estrellas. El planeta tiene un radio de aproximadamente 2.3 radios terrestres y un periodo orbital de 0.381073 días. La estrella anfitriona, K2-22, tiene una temperatura efectiva de 3879 K y un radio de 0.58 radios solares.' additional_kwargs={'refusal': None} response_metadata={'token_usage': {'completion_tokens': 105, 'prompt_tokens': 1748, 'total_tokens': 1853, 'prompt_tokens_details': {'cached_tokens': 1536}, 'completion_tokens_details': {'reasoning_tokens': 0}}, 'model_name': 'gpt-4o-2024-08-06', 'system_fingerprint': 'fp_e5e4913e83', 'finish_reason': 'stop', 'logprobs': None} id='run-85f140e9-5c09-490a-9b98-7edfe93e4170-0' usage_metadata={'input_tokens': 1748, 'output_tokens': 105, 'total_tokens': 1853, 'input_token_details': {'cache_read': 1536}, 'output_token_details': {'reasoning': 0}}\u001b[0m\n",
      "Thought:"
     ]
    },
    {
     "name": "stderr",
     "output_type": "stream",
     "text": [
      "127.0.0.1 - - [06/Oct/2024 12:34:56] \"POST /webhook HTTP/1.1\" 200 -\n"
     ]
    },
    {
     "name": "stdout",
     "output_type": "stream",
     "text": [
      "\u001b[32;1m\u001b[1;3m```json\n",
      "{\n",
      "    \"action\": \"Final Answer\",\n",
      "    \"action_input\": \"K2-22 b es un planeta que orbita la estrella K2-22. Fue descubierto en 2015 mediante el método de tránsito. El planeta tiene un radio de aproximadamente 2.3 radios terrestres y un periodo orbital muy corto de 0.381073 días. La estrella anfitriona, K2-22, tiene una temperatura efectiva de 3879 K. Debido a la proximidad del planeta a su estrella y las altas temperaturas resultantes, es poco probable que el agua pueda existir en forma líquida en K2-22 b. Las condiciones extremas de temperatura y radiación probablemente hacen que el agua se evapore o no se acumule en el planeta.\"\n",
      "}\n",
      "```\u001b[0m\n",
      "\n",
      "\u001b[1m> Finished chain.\u001b[0m\n",
      "====================\n",
      "HUMAN: Por que no hay agua?\n",
      "====================\n",
      "AI: K2-22 b es un planeta que orbita la estrella K2-22. Fue descubierto en 2015 mediante el método de tránsito. El planeta tiene un radio de aproximadamente 2.3 radios terrestres y un periodo orbital muy corto de 0.381073 días. La estrella anfitriona, K2-22, tiene una temperatura efectiva de 3879 K. Debido a la proximidad del planeta a su estrella y las altas temperaturas resultantes, es poco probable que el agua pueda existir en forma líquida en K2-22 b. Las condiciones extremas de temperatura y radiación probablemente hacen que el agua se evapore o no se acumule en el planeta.\n",
      "====================\n"
     ]
    },
    {
     "name": "stderr",
     "output_type": "stream",
     "text": [
      "127.0.0.1 - - [06/Oct/2024 12:40:44] \"OPTIONS /webhook HTTP/1.1\" 200 -\n"
     ]
    },
    {
     "name": "stdout",
     "output_type": "stream",
     "text": [
      "\n",
      "\n",
      "\u001b[1m> Entering new AgentExecutor chain...\u001b[0m\n",
      "\u001b[32;1m\u001b[1;3m```json\n",
      "{\n",
      "    \"action\": \"experto_planetas\",\n",
      "    \"action_input\": \"¿Por qué no hay agua en el exoplaneta K2-22b?\"\n",
      "}\n",
      "```\u001b[0m\n",
      "Observation: \u001b[36;1m\u001b[1;3mcontent='La información proporcionada no menciona la presencia o ausencia de agua en el exoplaneta K2-22b. Sin embargo, dado su corto período orbital de aproximadamente 0.38 días, es probable que esté muy cerca de su estrella anfitriona, lo que podría resultar en temperaturas extremadamente altas que harían improbable la existencia de agua en estado líquido. Sin datos específicos sobre su temperatura o composición atmosférica, no se puede confirmar la ausencia de agua.' additional_kwargs={'refusal': None} response_metadata={'token_usage': {'completion_tokens': 94, 'prompt_tokens': 1759, 'total_tokens': 1853, 'prompt_tokens_details': {'cached_tokens': 1536}, 'completion_tokens_details': {'reasoning_tokens': 0}}, 'model_name': 'gpt-4o-2024-08-06', 'system_fingerprint': 'fp_e5e4913e83', 'finish_reason': 'stop', 'logprobs': None} id='run-510a8c21-3ad8-4791-8e77-245ee405c6db-0' usage_metadata={'input_tokens': 1759, 'output_tokens': 94, 'total_tokens': 1853, 'input_token_details': {'cache_read': 1536}, 'output_token_details': {'reasoning': 0}}\u001b[0m\n",
      "Thought:"
     ]
    },
    {
     "name": "stderr",
     "output_type": "stream",
     "text": [
      "127.0.0.1 - - [06/Oct/2024 12:40:48] \"POST /webhook HTTP/1.1\" 200 -\n"
     ]
    },
    {
     "name": "stdout",
     "output_type": "stream",
     "text": [
      "\u001b[32;1m\u001b[1;3m```json\n",
      "{\n",
      "    \"action\": \"Final Answer\",\n",
      "    \"action_input\": \"La información disponible no menciona específicamente la presencia o ausencia de agua en el exoplaneta K2-22b. Sin embargo, debido a su corto período orbital de aproximadamente 0.38 días, es probable que esté muy cerca de su estrella anfitriona. Esto podría resultar en temperaturas extremadamente altas, lo que haría improbable la existencia de agua en estado líquido. Sin datos específicos sobre su temperatura o composición atmosférica, no se puede confirmar la ausencia de agua.\"\n",
      "}\n",
      "```\u001b[0m\n",
      "\n",
      "\u001b[1m> Finished chain.\u001b[0m\n",
      "====================\n",
      "HUMAN: ¿Porque no hay agua?\n",
      "====================\n",
      "AI: La información disponible no menciona específicamente la presencia o ausencia de agua en el exoplaneta K2-22b. Sin embargo, debido a su corto período orbital de aproximadamente 0.38 días, es probable que esté muy cerca de su estrella anfitriona. Esto podría resultar en temperaturas extremadamente altas, lo que haría improbable la existencia de agua en estado líquido. Sin datos específicos sobre su temperatura o composición atmosférica, no se puede confirmar la ausencia de agua.\n",
      "====================\n"
     ]
    }
   ],
   "source": [
    "from flask import Flask, request, jsonify\n",
    "from flask_cors import CORS\n",
    "global ans \n",
    "\n",
    "ans = None\n",
    "app = Flask(__name__)\n",
    "CORS(app)\n",
    "\n",
    "@app.route('/webhook', methods=['POST'])\n",
    "def webhook():\n",
    "    global ans\n",
    "    data = request.get_json()  # Obtener el JSON enviado desde JavaScript\n",
    "    if data:\n",
    "        question = data['message']\n",
    "        # answer = conversational_agent\n",
    "        #print(f\"Human: {question}\")\n",
    "        \n",
    "        planeta = 'K2-22b'\n",
    "        mensaje = f\"Estrella: {planeta} Pregunta: {question}\"\n",
    "\n",
    "        answer = conversational_agent(mensaje)\n",
    "        ans = answer\n",
    "        #print(f\"AI: {answer}\")\n",
    "        \n",
    "    else:\n",
    "        print(\"No se recibieron datos\")\n",
    "\n",
    "    print(\"=\"*20)\n",
    "    print(f\"HUMAN: {question}\")\n",
    "    print(\"=\"*20)\n",
    "    print(f\"AI: {answer['output']}\")\n",
    "    print(\"=\"*20)\n",
    "\n",
    "    return jsonify({\"respuesta\": answer['output']})\n",
    "\n",
    "if __name__ == '__main__':\n",
    "    app.run(debug=False,port=80)"
   ]
  }
 ],
 "metadata": {
  "kernelspec": {
   "display_name": "Python 3",
   "language": "python",
   "name": "python3"
  },
  "language_info": {
   "codemirror_mode": {
    "name": "ipython",
    "version": 3
   },
   "file_extension": ".py",
   "mimetype": "text/x-python",
   "name": "python",
   "nbconvert_exporter": "python",
   "pygments_lexer": "ipython3",
   "version": "3.11.9"
  }
 },
 "nbformat": 4,
 "nbformat_minor": 2
}
